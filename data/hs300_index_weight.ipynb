{
 "cells": [
  {
   "cell_type": "markdown",
   "id": "b3cda100",
   "metadata": {},
   "source": [
    "# 沪深300指数成分和权重获取\n",
    "\n",
    "本notebook演示如何使用Tushare API获取沪深300指数的成分股和权重信息。\n",
    "\n",
    "根据 `docs/指数成分和权重.md` 的说明：\n",
    "- 接口：index_weight\n",
    "- 描述：获取各类指数成分和权重，**月度数据**\n",
    "- 建议输入参数里开始日期和结束日分别输入当月第一天和最后一天的日期\n",
    "- 用户需要至少2000积分才可以调取\n"
   ]
  },
  {
   "cell_type": "code",
   "execution_count": 2,
   "id": "540b5518",
   "metadata": {},
   "outputs": [
    {
     "name": "stdout",
     "output_type": "stream",
     "text": [
      "当前目录: /Users/wuye/Desktop/gjzq_intern/project_code/0926/BacktestAgent/data\n",
      "项目根目录: /Users/wuye/Desktop/gjzq_intern/project_code/0926/BacktestAgent\n",
      "Python路径: /Users/wuye/Desktop/gjzq_intern/project_code/0926/BacktestAgent\n"
     ]
    }
   ],
   "source": [
    "# 导入必要的模块\n",
    "import sys\n",
    "import os\n",
    "from datetime import datetime, date\n",
    "from pathlib import Path\n",
    "\n",
    "# 由于现在在data目录下，需要添加项目根目录到路径\n",
    "current_dir = Path.cwd()\n",
    "project_root = current_dir.parent\n",
    "sys.path.append(str(project_root))\n",
    "\n",
    "print(f\"当前目录: {current_dir}\")\n",
    "print(f\"项目根目录: {project_root}\")\n",
    "print(f\"Python路径: {sys.path[-1]}\")\n",
    "\n",
    "import pandas as pd\n",
    "import tushare as ts\n",
    "from src.tools.utils import _init_tushare_api"
   ]
  },
  {
   "cell_type": "markdown",
   "id": "ea1334de",
   "metadata": {},
   "source": [
    "## 1. 初始化Tushare API\n",
    "\n",
    "首先需要确保TUSHARE_TOKEN环境变量已设置。\n"
   ]
  },
  {
   "cell_type": "code",
   "execution_count": 3,
   "id": "77ec340b",
   "metadata": {},
   "outputs": [
    {
     "name": "stdout",
     "output_type": "stream",
     "text": [
      "Tushare API 初始化成功\n",
      "当前时间: 2025-09-29 15:22:58\n"
     ]
    }
   ],
   "source": [
    "# 初始化Tushare API\n",
    "try:\n",
    "    pro = _init_tushare_api()\n",
    "    print(\"Tushare API 初始化成功\")\n",
    "    print(f\"当前时间: {datetime.now().strftime('%Y-%m-%d %H:%M:%S')}\")\n",
    "except Exception as e:\n",
    "    print(f\"Tushare API 初始化失败: {e}\")\n",
    "    print(\"请确保已设置TUSHARE_TOKEN环境变量\")\n"
   ]
  },
  {
   "cell_type": "markdown",
   "id": "3a2234e6",
   "metadata": {},
   "source": [
    "## 2. 获取沪深300指数成分和权重\n",
    "\n",
    "根据文档说明和用户要求：\n",
    "- 沪深300指数代码：000300.SZ  \n",
    "- 使用指定的交易日期：20250901"
   ]
  },
  {
   "cell_type": "code",
   "execution_count": 3,
   "id": "4a9658f3",
   "metadata": {},
   "outputs": [
    {
     "name": "stdout",
     "output_type": "stream",
     "text": [
      "查询参数:\n",
      "指数代码: 000300.SH\n",
      "交易日期: 20250901\n"
     ]
    }
   ],
   "source": [
    "# 设置查询参数\n",
    "trade_date = '20250901'  # 指定交易日期\n",
    "index_code = '000300.SH'  # 沪深300指数代码 (修改为000300)\n",
    "\n",
    "print(f\"查询参数:\")\n",
    "print(f\"指数代码: {index_code}\")\n",
    "print(f\"交易日期: {trade_date}\")"
   ]
  },
  {
   "cell_type": "code",
   "execution_count": 4,
   "id": "ec3443fd",
   "metadata": {},
   "outputs": [
    {
     "name": "stdout",
     "output_type": "stream",
     "text": [
      "正在获取 000300.SH 指数成分和权重...\n",
      "成功获取数据，共 300 条记录\n",
      "\n",
      "数据样例（前10条）:\n",
      "  index_code   con_code trade_date  weight\n",
      "0  000300.SH  600519.SH   20250901  3.8616\n",
      "1  000300.SH  300750.SZ   20250901  3.3453\n",
      "2  000300.SH  601318.SH   20250901  2.6228\n",
      "3  000300.SH  600036.SH   20250901  2.1642\n",
      "4  000300.SH  601899.SH   20250901  1.6725\n",
      "5  000300.SH  300502.SZ   20250901  1.6057\n",
      "6  000300.SH  000333.SZ   20250901  1.5166\n",
      "7  000300.SH  300059.SZ   20250901  1.5108\n",
      "8  000300.SH  601166.SH   20250901  1.5097\n",
      "9  000300.SH  300308.SZ   20250901  1.5035\n"
     ]
    }
   ],
   "source": [
    "# 获取沪深300指数成分和权重\n",
    "try:\n",
    "    print(f\"正在获取 {index_code} 指数成分和权重...\")\n",
    "    df = pro.index_weight(\n",
    "        index_code=index_code,\n",
    "        trade_date=trade_date\n",
    "    )\n",
    "    \n",
    "    print(f\"成功获取数据，共 {len(df)} 条记录\")\n",
    "    print(\"\\n数据样例（前10条）:\")\n",
    "    print(df.head(10))\n",
    "    \n",
    "except Exception as e:\n",
    "    print(f\"获取数据失败: {e}\")\n",
    "    print(\"可能的原因:\")\n",
    "    print(\"1. 积分不足（需要至少2000积分）\") \n",
    "    print(\"2. 网络连接问题\")\n",
    "    print(\"3. 参数错误\")\n",
    "    print(\"4. 指定日期无数据\")"
   ]
  },
  {
   "cell_type": "markdown",
   "id": "59467460",
   "metadata": {},
   "source": [
    "## 3. 数据分析和处理\n"
   ]
  },
  {
   "cell_type": "code",
   "execution_count": 5,
   "id": "2fbd8bf8",
   "metadata": {},
   "outputs": [
    {
     "name": "stdout",
     "output_type": "stream",
     "text": [
      "数据基本信息:\n",
      "总记录数: 300\n",
      "唯一成分股数量: 300\n",
      "交易日期范围: 20250901 到 20250901\n",
      "\n",
      "权重统计:\n",
      "count    300.000000\n",
      "mean       0.333332\n",
      "std        0.438675\n",
      "min        0.010500\n",
      "25%        0.117400\n",
      "50%        0.190500\n",
      "75%        0.366525\n",
      "max        3.861600\n",
      "Name: weight, dtype: float64\n",
      "\n",
      "数据结构:\n",
      "index_code     object\n",
      "con_code       object\n",
      "trade_date     object\n",
      "weight        float64\n",
      "dtype: object\n",
      "\n",
      "重复记录数: 0\n"
     ]
    }
   ],
   "source": [
    "# 数据基本信息\n",
    "if 'df' in locals() and not df.empty:\n",
    "    print(\"数据基本信息:\")\n",
    "    print(f\"总记录数: {len(df)}\")\n",
    "    print(f\"唯一成分股数量: {df['con_code'].nunique()}\")\n",
    "    print(f\"交易日期范围: {df['trade_date'].min()} 到 {df['trade_date'].max()}\")\n",
    "    \n",
    "    print(\"\\n权重统计:\")\n",
    "    print(df['weight'].describe())\n",
    "    \n",
    "    # 显示数据结构\n",
    "    print(\"\\n数据结构:\")\n",
    "    print(df.dtypes)\n",
    "    \n",
    "    # 检查是否有重复数据\n",
    "    duplicates = df.duplicated().sum()\n",
    "    print(f\"\\n重复记录数: {duplicates}\")\n"
   ]
  },
  {
   "cell_type": "code",
   "execution_count": 6,
   "id": "4cb2e5cc",
   "metadata": {},
   "outputs": [
    {
     "name": "stdout",
     "output_type": "stream",
     "text": [
      "权重最高的前10只成分股:\n",
      "\n",
      "最新交易日 (20250901) 权重排名:\n",
      " 1. 600519.SH  权重: 3.8616%\n",
      " 2. 300750.SZ  权重: 3.3453%\n",
      " 3. 601318.SH  权重: 2.6228%\n",
      " 4. 600036.SH  权重: 2.1642%\n",
      " 5. 601899.SH  权重: 1.6725%\n",
      " 6. 300502.SZ  权重: 1.6057%\n",
      " 7. 000333.SZ  权重: 1.5166%\n",
      " 8. 300059.SZ  权重: 1.5108%\n",
      " 9. 601166.SH  权重: 1.5097%\n",
      "10. 300308.SZ  权重: 1.5035%\n"
     ]
    }
   ],
   "source": [
    "# 查看权重最高的前10只成分股\n",
    "if 'df' in locals() and not df.empty:\n",
    "    print(\"权重最高的前10只成分股:\")\n",
    "    \n",
    "    # 获取最新交易日的数据\n",
    "    latest_date = df['trade_date'].max()\n",
    "    latest_df = df[df['trade_date'] == latest_date].copy()\n",
    "    \n",
    "    # 按权重排序\n",
    "    top_stocks = latest_df.nlargest(10, 'weight')\n",
    "    \n",
    "    print(f\"\\n最新交易日 ({latest_date}) 权重排名:\")\n",
    "    for i, (_, row) in enumerate(top_stocks.iterrows(), 1):\n",
    "        print(f\"{i:2d}. {row['con_code']:10s} 权重: {row['weight']:6.4f}%\")\n"
   ]
  },
  {
   "cell_type": "markdown",
   "id": "1f3aecb5",
   "metadata": {},
   "source": [
    "## 4. 数据保存\n",
    "\n",
    "将获取的数据保存到data目录下的CSV文件。"
   ]
  },
  {
   "cell_type": "code",
   "execution_count": null,
   "id": "44f1fb5c",
   "metadata": {},
   "outputs": [
    {
     "name": "stdout",
     "output_type": "stream",
     "text": [
      "数据已保存:\n",
      "CSV文件: ../data/hs300_index_weight_20250901.csv\n",
      "文件大小: 10.55 KB\n",
      "保存记录数: 300\n"
     ]
    }
   ],
   "source": [
    "# 保存数据到文件\n",
    "if 'df' in locals() and not df.empty:\n",
    "    # 创建data目录（当前就在data目录下）\n",
    "    data_dir = Path('.')\n",
    "    data_dir.mkdir(parents=True, exist_ok=True)\n",
    "    \n",
    "    # 保存为CSV文件\n",
    "    csv_filename = f\"hs300_index_weight_{trade_date}.csv\"\n",
    "    csv_path = data_dir / csv_filename\n",
    "    df.to_csv(csv_path, index=False, encoding='utf-8')\n",
    "    \n",
    "    print(f\"数据已保存:\")\n",
    "    print(f\"CSV文件: {csv_path}\")\n",
    "    print(f\"文件大小: {csv_path.stat().st_size / 1024:.2f} KB\")\n",
    "    print(f\"保存记录数: {len(df)}\")\n",
    "else:\n",
    "    print(\"没有数据可保存\")"
   ]
  },
  {
   "cell_type": "markdown",
   "id": "3bc85f96",
   "metadata": {},
   "source": [
    "## 总结\n",
    "\n",
    "本notebook展示了如何：\n",
    "\n",
    "1. 使用项目中已配置的Tushare API工具\n",
    "2. 获取沪深300指数的成分股和权重数据\n",
    "3. 对数据进行基本分析和统计\n",
    "4. 保存数据到本地文件\n",
    "\n",
    "**注意事项：**\n",
    "- 需要Tushare Pro账户且积分不少于2000分\n",
    "- 数据为月度数据，建议按月查询\n",
    "- 权重数据可能存在调整，请以最新数据为准\n"
   ]
  }
 ],
 "metadata": {
  "kernelspec": {
   "display_name": "backtestagent",
   "language": "python",
   "name": "python3"
  },
  "language_info": {
   "codemirror_mode": {
    "name": "ipython",
    "version": 3
   },
   "file_extension": ".py",
   "mimetype": "text/x-python",
   "name": "python",
   "nbconvert_exporter": "python",
   "pygments_lexer": "ipython3",
   "version": "3.12.11"
  }
 },
 "nbformat": 4,
 "nbformat_minor": 5
}
