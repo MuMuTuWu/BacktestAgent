{
  "cells": [
    {
      "cell_type": "markdown",
      "metadata": {},
      "source": [
        "# LLM 使用演示\n",
        "\n",
        "本 notebook 演示如何使用项目中配置的两个 LLM 实例：\n",
        "- 主模型：用于复杂任务\n",
        "- 轻量模型：用于简单快速任务\n"
      ]
    },
    {
      "cell_type": "code",
      "execution_count": 1,
      "metadata": {},
      "outputs": [],
      "source": [
        "# 导入必要的模块\n",
        "import sys\n",
        "import os\n",
        "sys.path.append('..')\n",
        "\n",
        "from src.llm import get_llm, get_light_llm, reset_llm\n",
        "from config import config\n"
      ]
    },
    {
      "cell_type": "markdown",
      "metadata": {},
      "source": [
        "## 1. 查看配置信息\n"
      ]
    },
    {
      "cell_type": "code",
      "execution_count": 2,
      "metadata": {},
      "outputs": [
        {
          "name": "stdout",
          "output_type": "stream",
          "text": [
            "当前模型配置:\n",
            "主模型: openai:gpt-5-mini\n",
            "轻量模型: openai:gpt-5-nano\n",
            "任务目录: /Users/wuye/Desktop/gjzq_intern/project_code/0926/BacktestAgent/notebook/../output/2025-09-29/task-5\n"
          ]
        }
      ],
      "source": [
        "print(\"当前模型配置:\")\n",
        "print(f\"主模型: {config['model_name']}\")\n",
        "print(f\"轻量模型: {config['light_model_name']}\")\n",
        "print(f\"任务目录: {config['task_dir']}\")\n"
      ]
    },
    {
      "cell_type": "markdown",
      "metadata": {},
      "source": [
        "## 2. 初始化 LLM 实例\n"
      ]
    },
    {
      "cell_type": "code",
      "execution_count": 3,
      "metadata": {},
      "outputs": [
        {
          "name": "stdout",
          "output_type": "stream",
          "text": [
            "🔄 初始化 LLM 实例...\n",
            "✅ 主模型: ChatOpenAI\n",
            "✅ 轻量模型: ChatOpenAI\n"
          ]
        }
      ],
      "source": [
        "# 获取 LLM 实例（懒加载）\n",
        "print(\"🔄 初始化 LLM 实例...\")\n",
        "main_llm = get_llm()\n",
        "light_llm = get_light_llm()\n",
        "\n",
        "print(f\"✅ 主模型: {type(main_llm).__name__}\")\n",
        "print(f\"✅ 轻量模型: {type(light_llm).__name__}\")\n"
      ]
    },
    {
      "cell_type": "markdown",
      "metadata": {},
      "source": [
        "## 3. 轻量模型示例 - 简单问答\n"
      ]
    },
    {
      "cell_type": "code",
      "execution_count": 4,
      "metadata": {},
      "outputs": [
        {
          "name": "stdout",
          "output_type": "stream",
          "text": [
            "问题: 用一句话解释什么是人工智能？\n",
            "轻量模型回答: 人工智能是让计算机通过模仿人类的感知、推理、学习和决策能力，来完成复杂任务的技术与系统。\n"
          ]
        }
      ],
      "source": [
        "# 使用轻量模型进行简单快速的问答\n",
        "question = \"用一句话解释什么是人工智能？\"\n",
        "print(f\"问题: {question}\")\n",
        "\n",
        "response = light_llm.invoke([{\"role\": \"user\", \"content\": question}])\n",
        "print(f\"轻量模型回答: {response.content}\")\n"
      ]
    },
    {
      "cell_type": "markdown",
      "metadata": {},
      "source": [
        "## 4. 主模型示例 - 复杂分析\n"
      ]
    },
    {
      "cell_type": "code",
      "execution_count": 5,
      "metadata": {},
      "outputs": [
        {
          "name": "stdout",
          "output_type": "stream",
          "text": [
            "复杂问题: 请详细解释Python中的装饰器是什么，包括:\n",
            "1. 基本概念\n",
            "2. 使用场景  \n",
            "3. 简单示例\n",
            "主模型回答: 下面我来详细解释一下 Python 中的“装饰器”（decorator），按你要求分为三个部分：基本概念、使用场景和简单示例。为保持清晰，我会逐步讲解并给出可运行的示例代码和说明。\n",
            "\n",
            "1. 基本概念\n",
            "- 定义（直观）：装饰器是“以函数为参数并返回新函数”的可调用对象。它通常用于在不修改被装饰函数源代码的情况下，给函数添加额外功能。换句话说，装饰器是包装函数的语法糖，常用于横切关注点（logging、权限、缓存等）。\n",
            "- 本质：Python 中的函数是第一类对象（可以作为参数传递、可以作为返回值、可以赋值给变量）。因此可以定义一个函数 wrapper 在调用原函数前或后做额外工作，然后把 wrapper 作为新的函数返回。装饰器就是把这样的模式抽象出来，并提供 @decorator 语法来方便使用。\n",
            "- 语法：\n",
            "  - 手工包装：f = decorator(f)\n",
            "  - 语法糖：在函数定义上方写 @decorator，相当于定义完函数后自动做 f = decorator(f)\n",
            "- 支持的对象：除了普通函数，装饰器也可以装饰类（类装饰器），以及装饰带参数的函数（装饰器本身带参数时需要再包一层）。\n",
            "\n",
            "2. 使用场景（常见用途）\n",
            "- 日志记录（logging）：记录函数被调用的时间、参数、返回值或异常。\n",
            "- 权限校验 / 访问控制：在执行函数前检查用户是否有权限。\n",
            "- 性能监测 / 计时（profiling）：统计函数执行时间或调用次数。\n",
            "- 缓存（memoization）：保存函数结果以避免重复计算（例如 functools.lru_cache）。\n",
            "- 重试机制：在出现暂时性错误时自动重试若干次。\n",
            "- 输入验证：在调用函数前验证参数合法性。\n",
            "- 事务管理：比如在数据库操作前启动事务，成功提交，异常回滚。\n",
            "- 统一异常处理：在装饰器中捕获异常并做统一处理或记录。\n",
            "- 在框架中常见的路由、视图注册：Web 框架（Flask、Django）大量使用装饰器来注册路由、权限、序列化等。\n",
            "\n",
            "3. 简单示例（几个逐步深入的例子）\n",
            "\n",
            "例 1：最简单的装饰器（不考虑函数元信息）\n",
            "代码：\n",
            "def my_decorator(func):\n",
            "    def wrapper(*args, **kwargs):\n",
            "        print(\"函数调用前\")\n",
            "        result = func(*args, **kwargs)\n",
            "        print(\"函数调用后\")\n",
            "        return result\n",
            "    return wrapper\n",
            "\n",
            "@my_decorator\n",
            "def greet(name):\n",
            "    print(f\"Hello, {name}!\")\n",
            "\n",
            "greet(\"Alice\")\n",
            "\n",
            "说明：\n",
            "- @my_decorator 等同于 greet = my_decorator(greet)。\n",
            "- 调用 greet(\"Alice\") 实际上执行的是 wrapper(\"Alice\")，它在调用原函数前后打印信息。\n",
            "\n",
            "例 2：带返回值和参数的通用装饰器\n",
            "（上例已演示，但强调要使用 *args, **kwargs 以支持任意签名）\n",
            "\n",
            "例 3：保留函数元信息（使用 functools.wraps）\n",
            "问题：上面 wrapper 会覆盖原函数的 __name__ 和 __doc__ 等元信息。解决方法是使用 functools.wraps：\n",
            "\n",
            "from functools import wraps\n",
            "\n",
            "def my_decorator(func):\n",
            "    @wraps(func)\n",
            "    def wrapper(*args, **kwargs):\n",
            "        print(\"前置动作\")\n",
            "        result = func(*args, **kwargs)\n",
            "        print(\"后置动作\")\n",
            "        return result\n",
            "    return wrapper\n",
            "\n",
            "@my_decorator\n",
            "def greet(name):\n",
            "    \"\"\"打招呼函数\"\"\"\n",
            "    print(f\"Hi {name}\")\n",
            "\n",
            "# greet.__name__ 仍为 'greet'，而不是 'wrapper'。\n",
            "\n",
            "例 4：带参数的装饰器（装饰器工厂）\n",
            "如果你想给装饰器本身传参，需要再包一层：\n",
            "\n",
            "from functools import wraps\n",
            "\n",
            "def repeat(n):\n",
            "    def decorator(func):\n",
            "        @wraps(func)\n",
            "        def wrapper(*args, **kwargs):\n",
            "            for i in range(n):\n",
            "                func(*args, **kwargs)\n",
            "        return wrapper\n",
            "    return decorator\n",
            "\n",
            "@repeat(3)\n",
            "def say(msg):\n",
            "    print(msg)\n",
            "\n",
            "say(\"Hello\")  # 会打印三次\n",
            "\n",
            "说明：repeat(3) 返回真正的装饰器 decorator，然后再把 say 传入 decorator。\n",
            "\n",
            "例 5：装饰器用于权限检查的伪例\n",
            "def requires_login(func):\n",
            "    @wraps(func)\n",
            "    def wrapper(*args, **kwargs):\n",
            "        if not getattr(args[0], \"user_logged_in\", False):\n",
            "            raise PermissionError(\"用户未登录\")\n",
            "        return func(*args, **kwargs)\n",
            "    return wrapper\n",
            "\n",
            "class View:\n",
            "    def __init__(self, logged):\n",
            "        self.user_logged_in = logged\n",
            "\n",
            "    @requires_login\n",
            "    def get(self):\n",
            "        return \"secret data\"\n",
            "\n",
            "v = View(logged=True)\n",
            "print(v.get())\n",
            "\n",
            "例 6：使用内置装饰器 functools.lru_cache（缓存示例）\n",
            "from functools import lru_cache\n",
            "\n",
            "@lru_cache(maxsize=128)\n",
            "def fib(n):\n",
            "    if n < 2:\n",
            "        return n\n",
            "    return fib(n-1) + fib(n-2)\n",
            "\n",
            "# 这样可以显著加速递归斐波那契计算。\n",
            "\n",
            "注意与陷阱\n",
            "- 装饰器改变函数身份（若不使用 wraps，会影响 introspection 和调试）。\n",
            "- 装饰器链（多个 @）会按自下而上的顺序应用：@d1 @d2 def f: -> f = d1(d2(f))\n",
            "- 对类方法使用装饰器要考虑 self/cls，普通函数装饰器一般适用；若要装饰静态方法或类方法，顺序和实现上要注意（例如先 @classmethod 再自定义装饰器，或相反，效果不同）。\n",
            "- 带参数装饰器需要三层嵌套：参数层 -> 装饰器层 -> wrapper 层。\n",
            "- 如果装饰器对函数签名有严格要求（比如类型检查或参数重写），要小心保持兼容。\n",
            "\n",
            "小结（要点回顾）\n",
            "- 装饰器是接收函数并返回函数的可调用对象，用来给函数在不修改原代码的情况下增加功能。\n",
            "- 常用于日志、认证、缓存、计时、重试、事务等跨切关注点。\n",
            "- 常见写法包括简单装饰器、带参数装饰器和使用 functools.wraps 保持元信息。\n",
            "- 通过 @decorator 语法可以方便应用装饰器，多个装饰器按自下而上的顺序应用。\n",
            "\n",
            "如果你愿意，我可以：\n",
            "- 给出更多真实场景的装饰器实现（例如重试、限流、计时器）；\n",
            "- 讲解装饰器和类装饰器、方法装饰器之间的差别；\n",
            "- 或者把上面的示例打包成可直接运行的代码片段并解释每一行。想要哪个方向我再继续。\n"
          ]
        }
      ],
      "source": [
        "# 使用主模型进行复杂的分析任务\n",
        "complex_question = \"\"\"\n",
        "请详细解释Python中的装饰器是什么，包括:\n",
        "1. 基本概念\n",
        "2. 使用场景  \n",
        "3. 简单示例\n",
        "\"\"\"\n",
        "\n",
        "print(f\"复杂问题: {complex_question.strip()}\")\n",
        "response = main_llm.invoke([{\"role\": \"user\", \"content\": complex_question}])\n",
        "print(f\"主模型回答: {response.content}\")\n"
      ]
    },
    {
      "cell_type": "markdown",
      "metadata": {},
      "source": [
        "## 5. 单例模式验证\n"
      ]
    },
    {
      "cell_type": "code",
      "execution_count": 6,
      "metadata": {},
      "outputs": [
        {
          "name": "stdout",
          "output_type": "stream",
          "text": [
            "🔍 单例模式验证:\n",
            "主模型单例验证: True\n",
            "轻量模型单例验证: True\n",
            "两个模型是不同实例: True\n"
          ]
        }
      ],
      "source": [
        "# 验证单例模式是否正常工作\n",
        "print(\"🔍 单例模式验证:\")\n",
        "main_llm2 = get_llm()\n",
        "light_llm2 = get_light_llm()\n",
        "\n",
        "print(f\"主模型单例验证: {main_llm is main_llm2}\")\n",
        "print(f\"轻量模型单例验证: {light_llm is light_llm2}\")\n",
        "print(f\"两个模型是不同实例: {main_llm is not light_llm}\")\n"
      ]
    }
  ],
  "metadata": {
    "kernelspec": {
      "display_name": ".venv",
      "language": "python",
      "name": "python3"
    },
    "language_info": {
      "codemirror_mode": {
        "name": "ipython",
        "version": 3
      },
      "file_extension": ".py",
      "mimetype": "text/x-python",
      "name": "python",
      "nbconvert_exporter": "python",
      "pygments_lexer": "ipython3",
      "version": "3.12.11"
    }
  },
  "nbformat": 4,
  "nbformat_minor": 2
}
